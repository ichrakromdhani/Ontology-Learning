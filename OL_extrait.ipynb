{
  "nbformat": 4,
  "nbformat_minor": 0,
  "metadata": {
    "colab": {
      "name": "pmbok.ipynb",
      "provenance": [],
      "collapsed_sections": [],
      "toc_visible": true
    },
    "kernelspec": {
      "display_name": "Python 3",
      "language": "python",
      "name": "python3"
    },
    "language_info": {
      "codemirror_mode": {
        "name": "ipython",
        "version": 3
      },
      "file_extension": ".py",
      "mimetype": "text/x-python",
      "name": "python",
      "nbconvert_exporter": "python",
      "pygments_lexer": "ipython3",
      "version": "3.7.6"
    }
  },
  "cells": [
    {
      "cell_type": "code",
      "metadata": {
        "id": "ZjekpQoHqK3n"
      },
      "source": [
        "from google.colab import drive\n",
        "drive.mount('/content/drive')"
      ],
      "execution_count": null,
      "outputs": []
    },
    {
      "cell_type": "code",
      "metadata": {
        "id": "CVGRvsukroL9"
      },
      "source": [
        "!pip install PyPDF2"
      ],
      "execution_count": null,
      "outputs": []
    },
    {
      "cell_type": "code",
      "metadata": {
        "id": "1V5PzLmaqj_N"
      },
      "source": [
        "import PyPDF2\n",
        "import nltk\n",
        "nltk.download('punkt')\n",
        "nltk.download('stopwords')\n",
        "nltk.download('wordnet')\n",
        "nltk.download('averaged_perceptron_tagger')\n",
        "from nltk.tokenize import sent_tokenize\n",
        "from nltk.tokenize import word_tokenize\n",
        "import nltk\n",
        "import re\n",
        "import string\n",
        "from nltk.corpus import stopwords, brown\n",
        "from nltk.tokenize import word_tokenize, sent_tokenize, RegexpTokenizer\n",
        "from nltk.stem import WordNetLemmatizer\n"
      ],
      "execution_count": null,
      "outputs": []
    },
    {
      "cell_type": "markdown",
      "metadata": {
        "id": "-3bJPWEqroL7"
      },
      "source": [
        "# 1. Data extraction"
      ]
    },
    {
      "cell_type": "code",
      "metadata": {
        "id": "CE8EI6sDroMM"
      },
      "source": [
        "filename = '/content/drive/My Drive/PMBOKGuide_5th_Ed.pdf'\n",
        "open_filename = open(filename, 'rb')\n",
        "ind_manifesto = PyPDF2.PdfFileReader(open_filename)"
      ],
      "execution_count": null,
      "outputs": []
    },
    {
      "cell_type": "code",
      "metadata": {
        "colab": {
          "background_save": true,
          "base_uri": "https://localhost:8080/",
          "height": 72
        },
        "id": "SnkcQh_NqwDA",
        "outputId": "80f2a130-67f0-4c05-e797-be376b77d52a"
      },
      "source": [
        "ind_manifesto.getDocumentInfo()"
      ],
      "execution_count": null,
      "outputs": [
        {
          "output_type": "execute_result",
          "data": {
            "text/plain": [
              "{'/CreationDate': \"D:20121220154602-05'00'\",\n",
              " '/ModDate': \"D:20130221141314+02'00'\",\n",
              " '/Producer': 'Creo Normalizer JTP'}"
            ]
          },
          "metadata": {
            "tags": []
          },
          "execution_count": 0
        }
      ]
    },
    {
      "cell_type": "code",
      "metadata": {
        "colab": {
          "base_uri": "https://localhost:8080/",
          "height": 35
        },
        "id": "9u1Lb-w5q1lT",
        "outputId": "9da37ce5-645e-4592-d7ac-cdf1e334934a"
      },
      "source": [
        "total_pages = ind_manifesto.numPages\n",
        "total_pages"
      ],
      "execution_count": null,
      "outputs": [
        {
          "output_type": "execute_result",
          "data": {
            "text/plain": [
              "616"
            ]
          },
          "metadata": {
            "tags": []
          },
          "execution_count": 6
        }
      ]
    },
    {
      "cell_type": "code",
      "metadata": {
        "id": "AQnSIehgq52X"
      },
      "source": [
        "!pip install textract"
      ],
      "execution_count": null,
      "outputs": []
    },
    {
      "cell_type": "code",
      "metadata": {
        "id": "FcrJhDZSq_Z8"
      },
      "source": [
        "def extract(subject):\n",
        "    s=subject.lower()\n",
        "    if s==\"project scope management\":\n",
        "        start= 130\n",
        "        end= 166\n",
        "    elif s==\"project time management\":\n",
        "        start=166\n",
        "        end=218  \n",
        "    else: \n",
        "        start=218\n",
        "        end=252\n",
        "    text  = ''\n",
        "    # Lets loop through, to read each page from the pdf file\n",
        "    while(start < end):\n",
        "        # Get the specified number of pages in the document\n",
        "        mani_page  = ind_manifesto.getPage(start)\n",
        "        # Process the next page\n",
        "        start += 1\n",
        "        # Extract the text from the page\n",
        "        text += mani_page.extractText()\n",
        "    return text\n"
      ],
      "execution_count": null,
      "outputs": []
    },
    {
      "cell_type": "code",
      "metadata": {
        "colab": {
          "background_save": true
        },
        "id": "81skaozZrGkF"
      },
      "source": [
        "ptm = extract(\"project time management\")\n",
        "ptm"
      ],
      "execution_count": null,
      "outputs": []
    },
    {
      "cell_type": "code",
      "metadata": {
        "id": "xnH3hiHirHgx"
      },
      "source": [
        "pcm = extract(\"project cost management\")\n",
        "pcm"
      ],
      "execution_count": null,
      "outputs": []
    },
    {
      "cell_type": "code",
      "metadata": {
        "id": "PxIycWfirOqc"
      },
      "source": [
        "psm=extract(\"project scope management\")\n",
        "psm"
      ],
      "execution_count": null,
      "outputs": []
    },
    {
      "cell_type": "code",
      "metadata": {
        "id": "6W6BNxamrcqR"
      },
      "source": [
        "#concaténation\n",
        "text=psm+ptm+pcm\n",
        "text"
      ],
      "execution_count": null,
      "outputs": []
    },
    {
      "cell_type": "markdown",
      "metadata": {
        "id": "CcVdfzaXroMa"
      },
      "source": [
        "# 2. Data preprocessing"
      ]
    },
    {
      "cell_type": "markdown",
      "metadata": {
        "id": "ml3iicT6roNA"
      },
      "source": [
        "## 2.1 Tokenization"
      ]
    },
    {
      "cell_type": "code",
      "metadata": {
        "colab": {
          "background_save": true,
          "base_uri": "https://localhost:8080/",
          "height": 54
        },
        "id": "Yx0h4aEwroNB",
        "outputId": "1640b616-6d2f-481d-d809-b3c528a58450"
      },
      "source": [
        "import nltk\n",
        "nltk.download('punkt')\n",
        "from nltk.tokenize import sent_tokenize, word_tokenize \n",
        "sentences = sent_tokenize(text)\n",
        "words = word_tokenize(text)"
      ],
      "execution_count": null,
      "outputs": [
        {
          "output_type": "stream",
          "text": [
            "[nltk_data] Downloading package punkt to /root/nltk_data...\n",
            "[nltk_data]   Package punkt is already up-to-date!\n"
          ],
          "name": "stdout"
        }
      ]
    },
    {
      "cell_type": "code",
      "metadata": {
        "id": "TApyGJ5vsXIX"
      },
      "source": [
        "words;"
      ],
      "execution_count": null,
      "outputs": []
    },
    {
      "cell_type": "code",
      "metadata": {
        "colab": {
          "background_save": true
        },
        "id": "Jz6TPVj6shSH"
      },
      "source": [
        "sentences"
      ],
      "execution_count": null,
      "outputs": []
    },
    {
      "cell_type": "markdown",
      "metadata": {
        "id": "iYY-3dkWroNU"
      },
      "source": [
        "## 2.2 Remove indesired ponctuation "
      ]
    },
    {
      "cell_type": "code",
      "metadata": {
        "id": "uBQKHQyKroNY"
      },
      "source": [
        "import string\n",
        "def remove_punctuation(text):\n",
        "    # replacing the punctuations with no space, \n",
        "    # which in effect deletes the punctuation marks \n",
        "    translator = str.maketrans('', '', string.punctuation)\n",
        "    # return the text stripped of punctuation marks\n",
        "    return text.translate(translator)"
      ],
      "execution_count": null,
      "outputs": []
    },
    {
      "cell_type": "code",
      "metadata": {
        "id": "jGoq71iMroNj"
      },
      "source": [
        "no_ponc=remove_punctuation(text)"
      ],
      "execution_count": null,
      "outputs": []
    },
    {
      "cell_type": "markdown",
      "metadata": {
        "id": "1efhEs4NroNs"
      },
      "source": [
        "## 2.3 Remove stopwords"
      ]
    },
    {
      "cell_type": "code",
      "metadata": {
        "colab": {
          "base_uri": "https://localhost:8080/",
          "height": 54
        },
        "id": "gRtzphgXroNt",
        "outputId": "1a9beb27-7d1f-4bf8-87a5-baccdaedcc81"
      },
      "source": [
        "import nltk\n",
        "import re\n",
        "nltk.download('stopwords')\n",
        "from nltk.corpus import stopwords\n",
        "sw = set(stopwords.words('english')) - set(['is a'])\n",
        "corpus=[]\n",
        "def stopwords(text):\n",
        "\n",
        "    \n",
        "    text = re.sub('[^a-zA-Z]', ' ', text)\n",
        "    \n",
        "    text = [word.lower() for word in text.split() if word.lower() not in sw]\n",
        "   \n",
        "    j=\" \".join(text)\n",
        "    corpus.append(j)\n",
        "    return j"
      ],
      "execution_count": null,
      "outputs": [
        {
          "output_type": "stream",
          "text": [
            "[nltk_data] Downloading package stopwords to /root/nltk_data...\n",
            "[nltk_data]   Package stopwords is already up-to-date!\n"
          ],
          "name": "stdout"
        }
      ]
    },
    {
      "cell_type": "code",
      "metadata": {
        "id": "q3kLYTGoroNy"
      },
      "source": [
        "no_stop=stopwords(no_ponc)"
      ],
      "execution_count": null,
      "outputs": []
    },
    {
      "cell_type": "code",
      "metadata": {
        "id": "PRk05X0utJAS"
      },
      "source": [
        "no_stop"
      ],
      "execution_count": null,
      "outputs": []
    },
    {
      "cell_type": "markdown",
      "metadata": {
        "id": "b7g44cV5roOX"
      },
      "source": [
        "## 2.4 Lemmetization and Stemming"
      ]
    },
    {
      "cell_type": "code",
      "metadata": {
        "colab": {
          "base_uri": "https://localhost:8080/",
          "height": 54
        },
        "id": "0vNRGpdcroOY",
        "outputId": "fcb35e1a-5c60-4570-972e-f1552520e193"
      },
      "source": [
        "import gensim\n",
        "import nltk\n",
        "nltk.download('wordnet')\n",
        "from nltk.stem import SnowballStemmer,WordNetLemmatizer\n",
        "def lemmatize_stemming(text):\n",
        "    stemmer=SnowballStemmer('english')\n",
        "    return stemmer.stem(WordNetLemmatizer().lemmatize(text, pos='v'))\n",
        "def preprocess(text):\n",
        "    result = []\n",
        "    for token in gensim.utils.simple_preprocess(text):\n",
        "        if token not in gensim.parsing.preprocessing.STOPWORDS and len(token) > 3:\n",
        "            result.append(lemmatize_stemming(token))\n",
        "    return result"
      ],
      "execution_count": null,
      "outputs": [
        {
          "output_type": "stream",
          "text": [
            "[nltk_data] Downloading package wordnet to /root/nltk_data...\n",
            "[nltk_data]   Package wordnet is already up-to-date!\n"
          ],
          "name": "stdout"
        }
      ]
    },
    {
      "cell_type": "code",
      "metadata": {
        "id": "5g3SefGMroOf"
      },
      "source": [
        "processed = preprocess(no_stop)\n",
        "processed"
      ],
      "execution_count": null,
      "outputs": []
    },
    {
      "cell_type": "markdown",
      "metadata": {
        "id": "73KGfINPVuIl"
      },
      "source": [
        "## 2.5 POS Tagging"
      ]
    },
    {
      "cell_type": "code",
      "metadata": {
        "id": "wDl2SQjRNyxS"
      },
      "source": [
        "tags=nltk.pos_tag(processed)"
      ],
      "execution_count": null,
      "outputs": []
    },
    {
      "cell_type": "code",
      "metadata": {
        "id": "_bf7PtaOPC0I"
      },
      "source": [
        "tags"
      ],
      "execution_count": null,
      "outputs": []
    },
    {
      "cell_type": "markdown",
      "metadata": {
        "id": "zFkDX5KgKPQM"
      },
      "source": [
        "## 2.6 Chunking"
      ]
    },
    {
      "cell_type": "code",
      "metadata": {
        "id": "LdDzl2JXMoSh"
      },
      "source": [
        "import nltk\n",
        "grammar=\"NP:{<DT>?<JJ>*<NN>}\"\n",
        "parser=nltk.RegexpParser(grammar)\n",
        "output=parser.parse(tags)\n",
        "print(output)\n",
        "#output.draw()"
      ],
      "execution_count": null,
      "outputs": []
    },
    {
      "cell_type": "markdown",
      "metadata": {
        "id": "CHHh1ghuroOm"
      },
      "source": [
        "# 4. Bag of words"
      ]
    },
    {
      "cell_type": "code",
      "metadata": {
        "colab": {
          "base_uri": "https://localhost:8080/",
          "height": 217
        },
        "id": "9rPLKh4uroOo",
        "outputId": "82e5e9f1-940c-4256-bf55-6a0332110acd"
      },
      "source": [
        "dictionary = gensim.corpora.Dictionary([no_stop.split()])\n",
        "count = 0\n",
        "for k, v in dictionary.iteritems():\n",
        "    print(k, v)\n",
        "    count += 1\n",
        "    if count > 10:\n",
        "        break\n",
        "\n",
        "        "
      ],
      "execution_count": null,
      "outputs": [
        {
          "output_type": "stream",
          "text": [
            "0 aa\n",
            "1 abbreviated\n",
            "2 ability\n",
            "3 able\n",
            "4 abstract\n",
            "5 ac\n",
            "6 accelerating\n",
            "7 acceptable\n",
            "8 acceptance\n",
            "9 accepted\n",
            "10 accepts\n"
          ],
          "name": "stdout"
        }
      ]
    },
    {
      "cell_type": "code",
      "metadata": {
        "id": "cqJiReXhroOw"
      },
      "source": [
        "dictionary.filter_extremes(no_below=15, no_above=0.5, keep_n=100000)"
      ],
      "execution_count": null,
      "outputs": []
    },
    {
      "cell_type": "markdown",
      "metadata": {
        "id": "IcAFW_oNroO1"
      },
      "source": [
        "# 5. Doc2bow"
      ]
    },
    {
      "cell_type": "code",
      "metadata": {
        "colab": {
          "background_save": true
        },
        "id": "pb6tTBo6roO1"
      },
      "source": [
        "import gensim\n",
        "from gensim import corpora\n",
        "bow_corpus = [dictionary.doc2bow(doc) for doc in [no_stop.split()]]\n",
        "\n",
        "# turn our tokenized documents into a id <-> term dictionary\n",
        "dictionary = corpora.Dictionary([no_stop.split()])\n",
        "# convert tokenized documents into a document-term matrix\n",
        "bow_corpus = [dictionary.doc2bow(text) for text in [no_stop.split()]]"
      ],
      "execution_count": null,
      "outputs": []
    },
    {
      "cell_type": "code",
      "metadata": {
        "id": "5Lh0v4GQb3Ef"
      },
      "source": [
        "list(dictionary.values())"
      ],
      "execution_count": null,
      "outputs": []
    },
    {
      "cell_type": "code",
      "metadata": {
        "id": "KD9vHsChroPB"
      },
      "source": [
        "bow_doc_0 = bow_corpus[0]\n",
        "for i in range(len(bow_doc_0)):\n",
        "    print(\"Word {} (\\\"{}\\\") appears {} time.\".format(bow_doc_0[i][0], \n",
        "                                               dictionary[bow_doc_0[i][0]], \n",
        "bow_doc_0[i][1]))"
      ],
      "execution_count": null,
      "outputs": []
    },
    {
      "cell_type": "code",
      "metadata": {
        "colab": {
          "base_uri": "https://localhost:8080/",
          "height": 78
        },
        "id": "wj04h-5DZaDq",
        "outputId": "7fdfa147-968b-4374-ac38-28c8f4ad0a4c"
      },
      "source": [
        "import pandas as pd\n",
        "df = pd.DataFrame([no_stop])\n",
        "df.columns = ['script']\n",
        "df.index = ['index']\n",
        "df"
      ],
      "execution_count": null,
      "outputs": [
        {
          "output_type": "execute_result",
          "data": {
            "text/html": [
              "<div>\n",
              "<style scoped>\n",
              "    .dataframe tbody tr th:only-of-type {\n",
              "        vertical-align: middle;\n",
              "    }\n",
              "\n",
              "    .dataframe tbody tr th {\n",
              "        vertical-align: top;\n",
              "    }\n",
              "\n",
              "    .dataframe thead th {\n",
              "        text-align: right;\n",
              "    }\n",
              "</style>\n",
              "<table border=\"1\" class=\"dataframe\">\n",
              "  <thead>\n",
              "    <tr style=\"text-align: right;\">\n",
              "      <th></th>\n",
              "      <th>script</th>\n",
              "    </tr>\n",
              "  </thead>\n",
              "  <tbody>\n",
              "    <tr>\n",
              "      <th>index</th>\n",
              "      <td>project management institute guide project man...</td>\n",
              "    </tr>\n",
              "  </tbody>\n",
              "</table>\n",
              "</div>"
            ],
            "text/plain": [
              "                                                  script\n",
              "index  project management institute guide project man..."
            ]
          },
          "metadata": {
            "tags": []
          },
          "execution_count": 39
        }
      ]
    },
    {
      "cell_type": "code",
      "metadata": {
        "id": "CSLSwWf7ZTQ3"
      },
      "source": [
        "#  Counting the occurrences of tokens and building a sparse matrix of documents x tokens.\n",
        "from sklearn.feature_extraction.text import CountVectorizer\n",
        "import numpy as np\n",
        "\n",
        "corpus = df.script\n",
        "vect = CountVectorizer(stop_words='english')\n",
        "\n",
        "# Transforms the data into a bag of words\n",
        "data_vect = vect.fit_transform(corpus)"
      ],
      "execution_count": null,
      "outputs": []
    },
    {
      "cell_type": "code",
      "metadata": {
        "colab": {
          "base_uri": "https://localhost:8080/",
          "height": 127
        },
        "id": "xVRDpVMSZ5dx",
        "outputId": "a2aa58d4-b034-417d-b466-7df6e9fbbee8"
      },
      "source": [
        "feature_names = vect.get_feature_names()\n",
        "data_vect_feat = pd.DataFrame(data_vect.toarray(), columns=feature_names)\n",
        "data_vect_feat.index = df.index\n",
        "data_vect_feat"
      ],
      "execution_count": null,
      "outputs": [
        {
          "output_type": "execute_result",
          "data": {
            "text/html": [
              "<div>\n",
              "<style scoped>\n",
              "    .dataframe tbody tr th:only-of-type {\n",
              "        vertical-align: middle;\n",
              "    }\n",
              "\n",
              "    .dataframe tbody tr th {\n",
              "        vertical-align: top;\n",
              "    }\n",
              "\n",
              "    .dataframe thead th {\n",
              "        text-align: right;\n",
              "    }\n",
              "</style>\n",
              "<table border=\"1\" class=\"dataframe\">\n",
              "  <thead>\n",
              "    <tr style=\"text-align: right;\">\n",
              "      <th></th>\n",
              "      <th>aa</th>\n",
              "      <th>abbreviated</th>\n",
              "      <th>ability</th>\n",
              "      <th>able</th>\n",
              "      <th>abstract</th>\n",
              "      <th>ac</th>\n",
              "      <th>accelerating</th>\n",
              "      <th>acceptable</th>\n",
              "      <th>acceptance</th>\n",
              "      <th>accepted</th>\n",
              "      <th>accepts</th>\n",
              "      <th>accompany</th>\n",
              "      <th>accomplish</th>\n",
              "      <th>accomplished</th>\n",
              "      <th>accomplishing</th>\n",
              "      <th>accomplishment</th>\n",
              "      <th>accordance</th>\n",
              "      <th>according</th>\n",
              "      <th>account</th>\n",
              "      <th>accounting</th>\n",
              "      <th>accounts</th>\n",
              "      <th>accumulate</th>\n",
              "      <th>accumulated</th>\n",
              "      <th>accuracy</th>\n",
              "      <th>accurate</th>\n",
              "      <th>accurately</th>\n",
              "      <th>acd</th>\n",
              "      <th>achievable</th>\n",
              "      <th>achieve</th>\n",
              "      <th>achieved</th>\n",
              "      <th>achieving</th>\n",
              "      <th>acknowledging</th>\n",
              "      <th>acquire</th>\n",
              "      <th>acquired</th>\n",
              "      <th>acquireproject</th>\n",
              "      <th>acquisition</th>\n",
              "      <th>acted</th>\n",
              "      <th>action</th>\n",
              "      <th>actions</th>\n",
              "      <th>active</th>\n",
              "      <th>...</th>\n",
              "      <th>voice</th>\n",
              "      <th>voting</th>\n",
              "      <th>waits</th>\n",
              "      <th>walkthroughs</th>\n",
              "      <th>warning</th>\n",
              "      <th>warranting</th>\n",
              "      <th>wave</th>\n",
              "      <th>way</th>\n",
              "      <th>ways</th>\n",
              "      <th>wbs</th>\n",
              "      <th>wbscreate</th>\n",
              "      <th>webpages</th>\n",
              "      <th>weekly</th>\n",
              "      <th>weeks</th>\n",
              "      <th>weight</th>\n",
              "      <th>weighted</th>\n",
              "      <th>welldocumented</th>\n",
              "      <th>wellfacilitated</th>\n",
              "      <th>whatif</th>\n",
              "      <th>whenhistorical</th>\n",
              "      <th>wide</th>\n",
              "      <th>widely</th>\n",
              "      <th>winformationproject</th>\n",
              "      <th>withheld</th>\n",
              "      <th>wno</th>\n",
              "      <th>wo</th>\n",
              "      <th>words</th>\n",
              "      <th>work</th>\n",
              "      <th>working</th>\n",
              "      <th>works</th>\n",
              "      <th>workshop</th>\n",
              "      <th>workshops</th>\n",
              "      <th>workweek</th>\n",
              "      <th>worstcase</th>\n",
              "      <th>writing</th>\n",
              "      <th>written</th>\n",
              "      <th>xed</th>\n",
              "      <th>yards</th>\n",
              "      <th>yen</th>\n",
              "      <th>zero</th>\n",
              "    </tr>\n",
              "  </thead>\n",
              "  <tbody>\n",
              "    <tr>\n",
              "      <th>index</th>\n",
              "      <td>1</td>\n",
              "      <td>1</td>\n",
              "      <td>3</td>\n",
              "      <td>4</td>\n",
              "      <td>1</td>\n",
              "      <td>24</td>\n",
              "      <td>1</td>\n",
              "      <td>9</td>\n",
              "      <td>19</td>\n",
              "      <td>14</td>\n",
              "      <td>1</td>\n",
              "      <td>1</td>\n",
              "      <td>3</td>\n",
              "      <td>11</td>\n",
              "      <td>1</td>\n",
              "      <td>1</td>\n",
              "      <td>1</td>\n",
              "      <td>3</td>\n",
              "      <td>20</td>\n",
              "      <td>5</td>\n",
              "      <td>10</td>\n",
              "      <td>1</td>\n",
              "      <td>1</td>\n",
              "      <td>20</td>\n",
              "      <td>8</td>\n",
              "      <td>1</td>\n",
              "      <td>1</td>\n",
              "      <td>2</td>\n",
              "      <td>4</td>\n",
              "      <td>4</td>\n",
              "      <td>1</td>\n",
              "      <td>1</td>\n",
              "      <td>1</td>\n",
              "      <td>2</td>\n",
              "      <td>3</td>\n",
              "      <td>1</td>\n",
              "      <td>1</td>\n",
              "      <td>18</td>\n",
              "      <td>12</td>\n",
              "      <td>2</td>\n",
              "      <td>...</td>\n",
              "      <td>1</td>\n",
              "      <td>2</td>\n",
              "      <td>1</td>\n",
              "      <td>1</td>\n",
              "      <td>1</td>\n",
              "      <td>1</td>\n",
              "      <td>6</td>\n",
              "      <td>10</td>\n",
              "      <td>7</td>\n",
              "      <td>106</td>\n",
              "      <td>1</td>\n",
              "      <td>1</td>\n",
              "      <td>1</td>\n",
              "      <td>8</td>\n",
              "      <td>3</td>\n",
              "      <td>1</td>\n",
              "      <td>1</td>\n",
              "      <td>1</td>\n",
              "      <td>4</td>\n",
              "      <td>1</td>\n",
              "      <td>1</td>\n",
              "      <td>2</td>\n",
              "      <td>1</td>\n",
              "      <td>2</td>\n",
              "      <td>1</td>\n",
              "      <td>1</td>\n",
              "      <td>1</td>\n",
              "      <td>263</td>\n",
              "      <td>4</td>\n",
              "      <td>3</td>\n",
              "      <td>2</td>\n",
              "      <td>9</td>\n",
              "      <td>1</td>\n",
              "      <td>3</td>\n",
              "      <td>4</td>\n",
              "      <td>1</td>\n",
              "      <td>2</td>\n",
              "      <td>2</td>\n",
              "      <td>1</td>\n",
              "      <td>5</td>\n",
              "    </tr>\n",
              "  </tbody>\n",
              "</table>\n",
              "<p>1 rows × 2494 columns</p>\n",
              "</div>"
            ],
            "text/plain": [
              "       aa  abbreviated  ability  able  abstract  ...  written  xed  yards  yen  zero\n",
              "index   1            1        3     4         1  ...        1    2      2    1     5\n",
              "\n",
              "[1 rows x 2494 columns]"
            ]
          },
          "metadata": {
            "tags": []
          },
          "execution_count": 41
        }
      ]
    },
    {
      "cell_type": "code",
      "metadata": {
        "colab": {
          "background_save": true,
          "base_uri": "https://localhost:8080/",
          "height": 412
        },
        "id": "ktYkt3VgZ745",
        "outputId": "7d8c3cb9-137f-47dc-ae4d-d842429ac940"
      },
      "source": [
        "from wordcloud import WordCloud, STOPWORDS\n",
        "import imageio\n",
        "import matplotlib.pyplot as plt\n",
        "import nltk\n",
        "\n",
        "\n",
        "# Get 100 words based on the \n",
        "words_except_stop_dist = nltk.FreqDist(w for w in words[:100]) \n",
        "wordcloud = WordCloud(stopwords=set(STOPWORDS),background_color='black').generate(\" \".join(words_except_stop_dist))\n",
        "plt.imshow(wordcloud,interpolation = 'bilinear')\n",
        "fig=plt.gcf()\n",
        "fig.set_size_inches(10,12)\n",
        "plt.axis('off')\n",
        "plt.title(\"Top most common 100 words PMBOK\",fontsize=20)\n",
        "plt.tight_layout(pad=0)\n",
        "plt.savefig('PMBOK_cost_time_scop_top_100.jpeg')"
      ],
      "execution_count": null,
      "outputs": [
        {
          "output_type": "display_data",
          "data": {
            "image/png": "[encoded data removed]",
            "text/plain": [
              "<Figure size 720x864 with 1 Axes>"
            ]
          },
          "metadata": {
            "tags": []
          }
        }
      ]
    },
    {
      "cell_type": "markdown",
      "metadata": {
        "id": "iJpqemlaroPI"
      },
      "source": [
        "# 6. TF-ID"
      ]
    },
    {
      "cell_type": "code",
      "metadata": {
        "colab": {
          "background_save": true
        },
        "id": "7K6rlMeproPM"
      },
      "source": [
        "import gensim.downloader as api\n",
        "from gensim import corpora, models\n",
        "from gensim.corpora import Dictionary\n",
        "from gensim.models import TfidfModel\n",
        "tfidf = models.TfidfModel(bow_corpus)\n",
        "corpus_tfidf = tfidf[bow_corpus]\n",
        "from pprint import pprint\n",
        "for doc in corpus_tfidf:\n",
        "    pprint(doc)\n"
      ],
      "execution_count": null,
      "outputs": []
    },
    {
      "cell_type": "code",
      "metadata": {
        "id": "UEPKiB4YUDrG"
      },
      "source": [
        "sentences = nltk.sent_tokenize(no_stop)"
      ],
      "execution_count": null,
      "outputs": []
    },
    {
      "cell_type": "code",
      "metadata": {
        "id": "K1rCrSFQHJq8"
      },
      "source": [
        "from sklearn.feature_extraction.text import TfidfVectorizer\n",
        "word_vectorizer = TfidfVectorizer(tokenizer=processed_docs, stop_words='english')\n",
        "all_word_vectors = word_vectorizer.fit_transform(for sent in sentences)"
      ],
      "execution_count": null,
      "outputs": []
    },
    {
      "cell_type": "code",
      "metadata": {
        "colab": {
          "base_uri": "https://localhost:8080/",
          "height": 35
        },
        "id": "sRBcXrM5vYIt",
        "outputId": "21a21095-a004-46a2-ea04-144685e78403"
      },
      "source": [
        "£print(corpus_tfidf"
      ],
      "execution_count": null,
      "outputs": [
        {
          "output_type": "stream",
          "text": [
            "TfidfModel(num_docs=1, num_nnz=2600)\n"
          ],
          "name": "stdout"
        }
      ]
    },
    {
      "cell_type": "markdown",
      "metadata": {
        "id": "9laed4s5roPU"
      },
      "source": [
        "# 7. LDA"
      ]
    },
    {
      "cell_type": "code",
      "metadata": {
        "id": "_1t4KTnyroPV"
      },
      "source": [
        "lda_model = gensim.models.LdaMulticore(bow_corpus, num_topics=10, id2word=dictionary,chunksize=100,iterations=25, passes=2, workers=4)"
      ],
      "execution_count": null,
      "outputs": []
    },
    {
      "cell_type": "code",
      "metadata": {
        "colab": {
          "base_uri": "https://localhost:8080/",
          "height": 401
        },
        "id": "PdMMLEBaroPc",
        "outputId": "54db8fe8-c062-4b9b-f317-e1862b720198"
      },
      "source": [
        "for idx, topic in lda_model.print_topics(-1):\n",
        "    print('Topic: {} \\nWords: {}'.format(idx, topic))"
      ],
      "execution_count": null,
      "outputs": [
        {
          "output_type": "stream",
          "text": [
            "Topic: 0 \n",
            "Words: 0.049*\"project\" + 0.033*\"management\" + 0.019*\"schedule\" + 0.013*\"activity\" + 0.012*\"process\" + 0.011*\"plan\" + 0.010*\"work\" + 0.010*\"pmi\" + 0.010*\"scope\" + 0.010*\"cost\"\n",
            "Topic: 1 \n",
            "Words: 0.031*\"project\" + 0.015*\"management\" + 0.010*\"schedule\" + 0.009*\"cost\" + 0.008*\"scope\" + 0.007*\"pmi\" + 0.007*\"guide\" + 0.007*\"activity\" + 0.006*\"work\" + 0.006*\"process\"\n",
            "Topic: 2 \n",
            "Words: 0.027*\"project\" + 0.016*\"management\" + 0.012*\"cost\" + 0.011*\"schedule\" + 0.009*\"scope\" + 0.008*\"activity\" + 0.007*\"work\" + 0.007*\"process\" + 0.007*\"requirements\" + 0.006*\"pmi\"\n",
            "Topic: 3 \n",
            "Words: 0.033*\"project\" + 0.030*\"management\" + 0.014*\"schedule\" + 0.010*\"scope\" + 0.010*\"cost\" + 0.009*\"work\" + 0.009*\"activity\" + 0.006*\"pmi\" + 0.006*\"guide\" + 0.006*\"process\"\n",
            "Topic: 4 \n",
            "Words: 0.031*\"project\" + 0.020*\"management\" + 0.016*\"schedule\" + 0.012*\"scope\" + 0.010*\"work\" + 0.009*\"activity\" + 0.008*\"process\" + 0.008*\"cost\" + 0.007*\"pmi\" + 0.007*\"section\"\n",
            "Topic: 5 \n",
            "Words: 0.032*\"project\" + 0.016*\"management\" + 0.013*\"schedule\" + 0.009*\"cost\" + 0.009*\"process\" + 0.009*\"scope\" + 0.008*\"guide\" + 0.008*\"activity\" + 0.008*\"pmi\" + 0.006*\"work\"\n",
            "Topic: 6 \n",
            "Words: 0.039*\"project\" + 0.023*\"management\" + 0.017*\"schedule\" + 0.016*\"cost\" + 0.014*\"process\" + 0.012*\"scope\" + 0.011*\"activity\" + 0.011*\"pmi\" + 0.010*\"plan\" + 0.010*\"section\"\n",
            "Topic: 7 \n",
            "Words: 0.030*\"project\" + 0.024*\"management\" + 0.016*\"cost\" + 0.013*\"scope\" + 0.013*\"schedule\" + 0.012*\"plan\" + 0.011*\"activity\" + 0.010*\"process\" + 0.009*\"pmi\" + 0.008*\"guide\"\n",
            "Topic: 8 \n",
            "Words: 0.061*\"project\" + 0.030*\"management\" + 0.017*\"schedule\" + 0.015*\"cost\" + 0.013*\"scope\" + 0.013*\"activity\" + 0.011*\"guide\" + 0.011*\"work\" + 0.010*\"pmi\" + 0.009*\"plan\"\n",
            "Topic: 9 \n",
            "Words: 0.038*\"project\" + 0.029*\"management\" + 0.018*\"schedule\" + 0.016*\"cost\" + 0.015*\"process\" + 0.014*\"work\" + 0.013*\"scope\" + 0.012*\"requirements\" + 0.012*\"plan\" + 0.011*\"guide\"\n"
          ],
          "name": "stdout"
        }
      ]
    },
    {
      "cell_type": "markdown",
      "metadata": {
        "id": "YZfY0X1croPl"
      },
      "source": [
        "# 8. LDA + TF_ID"
      ]
    },
    {
      "cell_type": "code",
      "metadata": {
        "colab": {
          "base_uri": "https://localhost:8080/",
          "height": 237
        },
        "id": "vT5IEoairoPm",
        "outputId": "a1be254e-7dc2-492d-935e-8caad21af619"
      },
      "source": [
        "lda_model_tfidf = gensim.models.LdaMulticore(corpus_tfidf, num_topics=10, id2word=dictionary,chunksize=100,iterations=25, passes=2, workers=4)\n",
        "for idx, topic in lda_model_tfidf.print_topics(-1):\n",
        "    print('Topic: {} Word: {}'.format(idx, topic))"
      ],
      "execution_count": null,
      "outputs": [
        {
          "output_type": "stream",
          "text": [
            "Topic: 0 Word: 0.000*\"planfigure\" + 0.000*\"planned\" + 0.000*\"placed\" + 0.000*\"placing\" + 0.000*\"plan\" + 0.000*\"plana\" + 0.000*\"planasp\" + 0.000*\"plancumulative\" + 0.000*\"plandescribed\" + 0.000*\"physical\"\n",
            "Topic: 1 Word: 0.000*\"planfigure\" + 0.000*\"planned\" + 0.000*\"placed\" + 0.000*\"placing\" + 0.000*\"plan\" + 0.000*\"plana\" + 0.000*\"planasp\" + 0.000*\"plancumulative\" + 0.000*\"plandescribed\" + 0.000*\"physical\"\n",
            "Topic: 2 Word: 0.000*\"planfigure\" + 0.000*\"planned\" + 0.000*\"placed\" + 0.000*\"placing\" + 0.000*\"plan\" + 0.000*\"plana\" + 0.000*\"planasp\" + 0.000*\"plancumulative\" + 0.000*\"plandescribed\" + 0.000*\"physical\"\n",
            "Topic: 3 Word: 0.000*\"planfigure\" + 0.000*\"planned\" + 0.000*\"placed\" + 0.000*\"placing\" + 0.000*\"plan\" + 0.000*\"plana\" + 0.000*\"planasp\" + 0.000*\"plancumulative\" + 0.000*\"plandescribed\" + 0.000*\"physical\"\n",
            "Topic: 4 Word: 0.000*\"planfigure\" + 0.000*\"planned\" + 0.000*\"placed\" + 0.000*\"placing\" + 0.000*\"plan\" + 0.000*\"plana\" + 0.000*\"planasp\" + 0.000*\"plancumulative\" + 0.000*\"plandescribed\" + 0.000*\"physical\"\n",
            "Topic: 5 Word: 0.000*\"planfigure\" + 0.000*\"planned\" + 0.000*\"placed\" + 0.000*\"placing\" + 0.000*\"plan\" + 0.000*\"plana\" + 0.000*\"planasp\" + 0.000*\"plancumulative\" + 0.000*\"plandescribed\" + 0.000*\"physical\"\n",
            "Topic: 6 Word: 0.000*\"planfigure\" + 0.000*\"planned\" + 0.000*\"placed\" + 0.000*\"placing\" + 0.000*\"plan\" + 0.000*\"plana\" + 0.000*\"planasp\" + 0.000*\"plancumulative\" + 0.000*\"plandescribed\" + 0.000*\"physical\"\n",
            "Topic: 7 Word: 0.000*\"planfigure\" + 0.000*\"planned\" + 0.000*\"placed\" + 0.000*\"placing\" + 0.000*\"plan\" + 0.000*\"plana\" + 0.000*\"planasp\" + 0.000*\"plancumulative\" + 0.000*\"plandescribed\" + 0.000*\"physical\"\n",
            "Topic: 8 Word: 0.000*\"planfigure\" + 0.000*\"planned\" + 0.000*\"placed\" + 0.000*\"placing\" + 0.000*\"plan\" + 0.000*\"plana\" + 0.000*\"planasp\" + 0.000*\"plancumulative\" + 0.000*\"plandescribed\" + 0.000*\"physical\"\n",
            "Topic: 9 Word: 0.000*\"planfigure\" + 0.000*\"planned\" + 0.000*\"placed\" + 0.000*\"placing\" + 0.000*\"plan\" + 0.000*\"plana\" + 0.000*\"planasp\" + 0.000*\"plancumulative\" + 0.000*\"plandescribed\" + 0.000*\"physical\"\n"
          ],
          "name": "stdout"
        },
        {
          "output_type": "stream",
          "text": [
            "RuntimeWarning: invalid value encountered in double_scalars [ldamodel.py:804]\n"
          ],
          "name": "stderr"
        }
      ]
    },
    {
      "cell_type": "markdown",
      "metadata": {
        "id": "4qdwNnYsroPu"
      },
      "source": [
        "# 9. Evaluation"
      ]
    },
    {
      "cell_type": "markdown",
      "metadata": {
        "id": "SIz4kkTtroPv"
      },
      "source": [
        "## Evaluation using LDA Bag of Words model"
      ]
    },
    {
      "cell_type": "code",
      "metadata": {
        "colab": {
          "base_uri": "https://localhost:8080/",
          "height": 547
        },
        "id": "PW8D7MnUroPw",
        "outputId": "3ca2492f-3575-4170-9a2f-439f64305cf8"
      },
      "source": [
        "for index, score in sorted(lda_model[bow_corpus[14]], key=lambda tup: -1*tup[1]):\n",
        "    print(\"\\nScore: {}\\t \\nTopic: {}\".format(score, lda_model.print_topic(index, 10)))"
      ],
      "execution_count": null,
      "outputs": [
        {
          "output_type": "stream",
          "text": [
            "\n",
            "Score: 0.6330733299255371\t \n",
            "Topic: 0.171*\"mang\" + 0.148*\"froid\" + 0.129*\"tout\" + 0.122*\"personnel\" + 0.099*\"frit\" + 0.063*\"restaur\" + 0.059*\"command\" + 0.050*\"sandwich\" + 0.050*\"serv\" + 0.032*\"cest\"\n",
            "\n",
            "Score: 0.2335716336965561\t \n",
            "Topic: 0.171*\"sal\" + 0.128*\"tabl\" + 0.115*\"attent\" + 0.102*\"personnel\" + 0.071*\"plus\" + 0.065*\"serv\" + 0.061*\"froid\" + 0.058*\"sandwich\" + 0.051*\"manqu\" + 0.047*\"command\"\n",
            "\n",
            "Score: 0.016672134399414062\t \n",
            "Topic: 0.144*\"command\" + 0.114*\"pass\" + 0.110*\"frit\" + 0.100*\"driv\" + 0.093*\"attent\" + 0.083*\"restaur\" + 0.076*\"personnel\" + 0.038*\"cest\" + 0.035*\"manqu\" + 0.034*\"toujour\"\n",
            "\n",
            "Score: 0.016672035679221153\t \n",
            "Topic: 0.209*\"tout\" + 0.128*\"cest\" + 0.099*\"command\" + 0.097*\"froid\" + 0.079*\"mang\" + 0.076*\"sandwich\" + 0.075*\"plus\" + 0.045*\"frit\" + 0.034*\"personnel\" + 0.029*\"pass\"\n",
            "\n",
            "Score: 0.01666986756026745\t \n",
            "Topic: 0.302*\"command\" + 0.134*\"driv\" + 0.088*\"fois\" + 0.078*\"personnel\" + 0.055*\"restaur\" + 0.046*\"mang\" + 0.046*\"tout\" + 0.034*\"attent\" + 0.034*\"cest\" + 0.029*\"manqu\"\n",
            "\n",
            "Score: 0.016668783500790596\t \n",
            "Topic: 0.146*\"plus\" + 0.119*\"fois\" + 0.112*\"driv\" + 0.110*\"pir\" + 0.101*\"frit\" + 0.098*\"toujour\" + 0.069*\"sandwich\" + 0.054*\"restaur\" + 0.049*\"tabl\" + 0.046*\"attent\"\n",
            "\n",
            "Score: 0.016668541356921196\t \n",
            "Topic: 0.174*\"client\" + 0.168*\"cest\" + 0.168*\"personnel\" + 0.158*\"restaur\" + 0.084*\"plus\" + 0.063*\"tabl\" + 0.058*\"manqu\" + 0.030*\"serv\" + 0.021*\"sal\" + 0.015*\"toujour\"\n",
            "\n",
            "Score: 0.016668161377310753\t \n",
            "Topic: 0.134*\"toujour\" + 0.115*\"pir\" + 0.099*\"pass\" + 0.075*\"cest\" + 0.075*\"tabl\" + 0.072*\"sal\" + 0.072*\"serv\" + 0.063*\"command\" + 0.057*\"sandwich\" + 0.044*\"tout\"\n",
            "\n",
            "Score: 0.01666806824505329\t \n",
            "Topic: 0.309*\"froid\" + 0.085*\"command\" + 0.082*\"sandwich\" + 0.078*\"toujour\" + 0.062*\"fois\" + 0.056*\"tout\" + 0.048*\"manqu\" + 0.047*\"plus\" + 0.038*\"serv\" + 0.034*\"pir\"\n",
            "\n",
            "Score: 0.016667405143380165\t \n",
            "Topic: 0.170*\"command\" + 0.136*\"manqu\" + 0.085*\"toujour\" + 0.079*\"plus\" + 0.069*\"fois\" + 0.061*\"frit\" + 0.058*\"cest\" + 0.049*\"pir\" + 0.044*\"personnel\" + 0.041*\"tabl\"\n"
          ],
          "name": "stdout"
        }
      ]
    },
    {
      "cell_type": "markdown",
      "metadata": {
        "id": "G9qlW8GlroQW"
      },
      "source": [
        "## Evaluation using LDA TF-IDF model"
      ]
    },
    {
      "cell_type": "code",
      "metadata": {
        "colab": {
          "base_uri": "https://localhost:8080/",
          "height": 547
        },
        "id": "Z7DeC0KqroQ6",
        "outputId": "5ecc4580-c687-460b-8e83-6d87d03cfa05"
      },
      "source": [
        "for index, score in sorted(lda_model_tfidf[bow_corpus[14]], key=lambda tup: -1*tup[1]):\n",
        "    print(\"\\nScore: {}\\t \\nTopic: {}\".format(score, lda_model_tfidf.print_topic(index, 10)))\n"
      ],
      "execution_count": null,
      "outputs": [
        {
          "output_type": "stream",
          "text": [
            "\n",
            "Score: 0.8499695658683777\t \n",
            "Topic: 0.173*\"tout\" + 0.150*\"froid\" + 0.095*\"sandwich\" + 0.095*\"serv\" + 0.093*\"command\" + 0.059*\"mang\" + 0.049*\"personnel\" + 0.041*\"sal\" + 0.040*\"attent\" + 0.036*\"frit\"\n",
            "\n",
            "Score: 0.0166741032153368\t \n",
            "Topic: 0.158*\"plus\" + 0.154*\"attent\" + 0.128*\"restaur\" + 0.102*\"command\" + 0.065*\"serv\" + 0.057*\"personnel\" + 0.051*\"pass\" + 0.051*\"manqu\" + 0.034*\"mang\" + 0.032*\"tout\"\n",
            "\n",
            "Score: 0.01667359285056591\t \n",
            "Topic: 0.243*\"personnel\" + 0.140*\"command\" + 0.097*\"pass\" + 0.079*\"pir\" + 0.077*\"driv\" + 0.064*\"sal\" + 0.055*\"fois\" + 0.047*\"toujour\" + 0.027*\"cest\" + 0.024*\"mang\"\n",
            "\n",
            "Score: 0.016670508310198784\t \n",
            "Topic: 0.265*\"froid\" + 0.186*\"mang\" + 0.134*\"sandwich\" + 0.078*\"toujour\" + 0.070*\"cest\" + 0.068*\"restaur\" + 0.029*\"command\" + 0.026*\"client\" + 0.024*\"attent\" + 0.022*\"manqu\"\n",
            "\n",
            "Score: 0.01667034812271595\t \n",
            "Topic: 0.166*\"cest\" + 0.148*\"sal\" + 0.102*\"client\" + 0.090*\"personnel\" + 0.079*\"tabl\" + 0.074*\"command\" + 0.065*\"pass\" + 0.056*\"plus\" + 0.054*\"restaur\" + 0.043*\"attent\"\n",
            "\n",
            "Score: 0.01666877605021\t \n",
            "Topic: 0.254*\"client\" + 0.121*\"tabl\" + 0.114*\"restaur\" + 0.076*\"personnel\" + 0.059*\"plus\" + 0.049*\"serv\" + 0.039*\"pir\" + 0.031*\"toujour\" + 0.031*\"mang\" + 0.029*\"frit\"\n",
            "\n",
            "Score: 0.016668522730469704\t \n",
            "Topic: 0.134*\"cest\" + 0.122*\"pir\" + 0.111*\"pass\" + 0.084*\"tout\" + 0.081*\"restaur\" + 0.069*\"plus\" + 0.064*\"tabl\" + 0.062*\"mang\" + 0.061*\"toujour\" + 0.055*\"driv\"\n",
            "\n",
            "Score: 0.016668472439050674\t \n",
            "Topic: 0.242*\"frit\" + 0.166*\"fois\" + 0.106*\"driv\" + 0.094*\"manqu\" + 0.087*\"plus\" + 0.073*\"command\" + 0.049*\"attent\" + 0.034*\"toujour\" + 0.027*\"mang\" + 0.025*\"sandwich\"\n",
            "\n",
            "Score: 0.016668150201439857\t \n",
            "Topic: 0.140*\"froid\" + 0.093*\"restaur\" + 0.078*\"sal\" + 0.073*\"frit\" + 0.071*\"serv\" + 0.068*\"pir\" + 0.060*\"manqu\" + 0.059*\"sandwich\" + 0.053*\"mang\" + 0.053*\"fois\"\n",
            "\n",
            "Score: 0.016668008640408516\t \n",
            "Topic: 0.207*\"toujour\" + 0.128*\"manqu\" + 0.101*\"driv\" + 0.094*\"cest\" + 0.084*\"command\" + 0.081*\"sandwich\" + 0.062*\"plus\" + 0.045*\"pir\" + 0.044*\"restaur\" + 0.036*\"personnel\"\n"
          ],
          "name": "stdout"
        }
      ]
    },
    {
      "cell_type": "code",
      "metadata": {
        "colab": {
          "base_uri": "https://localhost:8080/",
          "height": 51
        },
        "id": "_7o2wF6cStz1",
        "outputId": "ca89b300-fd02-4d73-c597-bd2e2ba7de49"
      },
      "source": [
        "from gensim.models import CoherenceModel\n",
        "# Compute Coherence Score\n",
        "coherence_model_lda = CoherenceModel(model=lda_model_tfidf, texts=processed_docs, dictionary=dictionary, coherence='c_v')\n",
        "coherence_lda = coherence_model_lda.get_coherence()\n",
        "print('\\nCoherence Score: ', coherence_lda)"
      ],
      "execution_count": null,
      "outputs": [
        {
          "output_type": "stream",
          "text": [
            "\n",
            "Coherence Score:  0.21666423868157847\n"
          ],
          "name": "stdout"
        }
      ]
    },
    {
      "cell_type": "markdown",
      "metadata": {
        "id": "-ZCViAmAroRI"
      },
      "source": [
        "#  10.Test"
      ]
    },
    {
      "cell_type": "code",
      "metadata": {
        "colab": {
          "base_uri": "https://localhost:8080/",
          "height": 207
        },
        "id": "RPDGSMaCroRJ",
        "outputId": "e2b5faf7-a4ae-46e0-d18f-53ad461ced82"
      },
      "source": [
        "unseen_document = \"j'aime tout au macdo , fast food, endroit et atmosphère sont magnifiques \"\n",
        "bow_vector = dictionary.doc2bow(preprocess(unseen_document))\n",
        "for index, score in sorted(lda_model[bow_vector], key=lambda tup: -1*tup[1]):\n",
        "    print(\"Score: {}\\t Topic: {}\".format(score, lda_model.print_topic(index, 5)))"
      ],
      "execution_count": null,
      "outputs": [
        {
          "output_type": "stream",
          "text": [
            "Score: 0.5499685406684875\t Topic: 0.209*\"tout\" + 0.128*\"cest\" + 0.099*\"command\" + 0.097*\"froid\" + 0.079*\"mang\"\n",
            "Score: 0.05001497641205788\t Topic: 0.171*\"mang\" + 0.148*\"froid\" + 0.129*\"tout\" + 0.122*\"personnel\" + 0.099*\"frit\"\n",
            "Score: 0.05000494793057442\t Topic: 0.309*\"froid\" + 0.085*\"command\" + 0.082*\"sandwich\" + 0.078*\"toujour\" + 0.062*\"fois\"\n",
            "Score: 0.05000436678528786\t Topic: 0.302*\"command\" + 0.134*\"driv\" + 0.088*\"fois\" + 0.078*\"personnel\" + 0.055*\"restaur\"\n",
            "Score: 0.050003375858068466\t Topic: 0.134*\"toujour\" + 0.115*\"pir\" + 0.099*\"pass\" + 0.075*\"cest\" + 0.075*\"tabl\"\n",
            "Score: 0.050002824515104294\t Topic: 0.171*\"sal\" + 0.128*\"tabl\" + 0.115*\"attent\" + 0.102*\"personnel\" + 0.071*\"plus\"\n",
            "Score: 0.05000067874789238\t Topic: 0.144*\"command\" + 0.114*\"pass\" + 0.110*\"frit\" + 0.100*\"driv\" + 0.093*\"attent\"\n",
            "Score: 0.050000227987766266\t Topic: 0.146*\"plus\" + 0.119*\"fois\" + 0.112*\"driv\" + 0.110*\"pir\" + 0.101*\"frit\"\n",
            "Score: 0.05000005289912224\t Topic: 0.170*\"command\" + 0.136*\"manqu\" + 0.085*\"toujour\" + 0.079*\"plus\" + 0.069*\"fois\"\n",
            "Score: 0.05000000074505806\t Topic: 0.174*\"client\" + 0.168*\"cest\" + 0.168*\"personnel\" + 0.158*\"restaur\" + 0.084*\"plus\"\n"
          ],
          "name": "stdout"
        }
      ]
    },
    {
      "cell_type": "code",
      "metadata": {
        "colab": {
          "base_uri": "https://localhost:8080/",
          "height": 51
        },
        "id": "A8m5C2lCVXmH",
        "outputId": "bba789fb-4a5c-4b81-a74c-d1543e14646f"
      },
      "source": [
        "coherence_model_lda = CoherenceModel(model=lda_model_tfidf, texts=processed_docs, dictionary=dictionary, coherence='c_v')\n",
        "coherence_lda = coherence_model_lda.get_coherence()\n",
        "print('\\nCoherence Score: ', coherence_lda)"
      ],
      "execution_count": null,
      "outputs": [
        {
          "output_type": "stream",
          "text": [
            "\n",
            "Coherence Score:  0.21666423868157847\n"
          ],
          "name": "stdout"
        }
      ]
    },
    {
      "cell_type": "code",
      "metadata": {
        "colab": {
          "base_uri": "https://localhost:8080/",
          "height": 682
        },
        "id": "8RMkKrVzVinK",
        "outputId": "ef4aa182-221a-4870-9829-27fce5a86064"
      },
      "source": [
        " #Load the library with the CountVectorizer method\n",
        "from sklearn.feature_extraction.text import CountVectorizer\n",
        "import numpy as np\n",
        "import matplotlib.pyplot as plt\n",
        "import seaborn as sns\n",
        "sns.set_style('whitegrid')\n",
        "%matplotlib inline\n",
        "# Helper function\n",
        "def plot_10_most_common_words(count_data, count_vectorizer):\n",
        "    import matplotlib.pyplot as plt\n",
        "    words = count_vectorizer.get_feature_names()\n",
        "    total_counts = np.zeros(len(words))\n",
        "    for t in count_data:\n",
        "        total_counts+=t.toarray()[0]\n",
        "    \n",
        "    count_dict = (zip(words, total_counts))\n",
        "    count_dict = sorted(count_dict, key=lambda x:x[1], reverse=True)[0:10]\n",
        "    words = [w[0] for w in count_dict]\n",
        "    counts = [w[1] for w in count_dict]\n",
        "    x_pos = np.arange(len(words)) \n",
        "    \n",
        "    plt.figure(2, figsize=(15, 15/1.6180))\n",
        "    plt.subplot(title='10 most common words')\n",
        "    sns.set_context(\"notebook\", font_scale=1.25, rc={\"lines.linewidth\": 2.5})\n",
        "    sns.barplot(x_pos, counts, palette='husl')\n",
        "    plt.xticks(x_pos, words, rotation=90) \n",
        "    plt.xlabel('words')\n",
        "    plt.ylabel('counts')\n",
        "    plt.show()\n",
        "# Initialise the count vectorizer with the English stop words\n",
        "count_vectorizer = CountVectorizer(stop_words=['french'])\n",
        "# Fit and transform the processed titles\n",
        "count_data = count_vectorizer.fit_transform(df['review_body'])\n",
        "# Visualise the 10 most common words\n",
        "plot_10_most_common_words(count_data, count_vectorizer)"
      ],
      "execution_count": null,
      "outputs": [
        {
          "output_type": "stream",
          "text": [
            "/usr/local/lib/python3.6/dist-packages/statsmodels/tools/_testing.py:19: FutureWarning: pandas.util.testing is deprecated. Use the functions in the public API at pandas.testing instead.\n",
            "  import pandas.util.testing as tm\n"
          ],
          "name": "stderr"
        },
        {
          "output_type": "display_data",
          "data": {
            "image/png": "[encoded data removed]",
            "text/plain": [
              "<Figure size 1080x667.491 with 1 Axes>"
            ]
          },
          "metadata": {
            "tags": []
          }
        }
      ]
    }
  ]
}